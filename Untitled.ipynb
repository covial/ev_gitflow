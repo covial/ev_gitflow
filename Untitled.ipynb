{
 "cells": [
  {
   "cell_type": "code",
   "execution_count": 4,
   "metadata": {},
   "outputs": [],
   "source": [
    "import json"
   ]
  },
  {
   "cell_type": "code",
   "execution_count": 5,
   "metadata": {},
   "outputs": [],
   "source": [
    "# OPCIÓN DEBE SER 1, 2, 3 o 4, SEGÚN SE QUIERA LA FUNCIÓN 1, 2, 3 o 4\n",
    "def main(opcion):\n",
    "    if opcion == 1:\n",
    "        mas_retwitteados()\n",
    "    if opcion == 2:\n",
    "        usuarios_mas_tweets()\n",
    "    if opcion == 3:\n",
    "        dias()\n",
    "    if opcion == 4:\n",
    "        hashtags()"
   ]
  },
  {
   "cell_type": "code",
   "execution_count": null,
   "metadata": {},
   "outputs": [],
   "source": []
  }
 ],
 "metadata": {
  "kernelspec": {
   "display_name": "Python 3",
   "language": "python",
   "name": "python3"
  },
  "language_info": {
   "codemirror_mode": {
    "name": "ipython",
    "version": 3
   },
   "file_extension": ".py",
   "mimetype": "text/x-python",
   "name": "python",
   "nbconvert_exporter": "python",
   "pygments_lexer": "ipython3",
   "version": "3.7.4"
  }
 },
 "nbformat": 4,
 "nbformat_minor": 2
}
