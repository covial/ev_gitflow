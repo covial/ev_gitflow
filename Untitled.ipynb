{
 "cells": [
  {
   "cell_type": "code",

   "execution_count": 2,


   "metadata": {},
   "outputs": [],
   "source": [
    "import json"
   ]
  },
  {
   "cell_type": "code",

   "execution_count": 5,
   "metadata": {},
   "outputs": [],
   "source": [

    "def dias():\n",
    "    with open(\"farmers-protest-tweets-2021-03-5.json\", \"r\", encoding='utf-8') as archivo:\n",
    "        #ESTO NO FUNCIONA\n",
    "        pass\n",
    "    print(\"Estos son los 10 días con más tweets.\")"

    "def usuarios_mas_tweets():\n",
    "    with open(\"farmers-protest-tweets-2021-03-5.json\", \"r\", encoding='utf-8') as archivo:\n",
    "        #ESTO NO FUNCIONA\n",
    "        pass\n",
    "    print(\"Estos son los 10 usuarios con más tweets.\")"

   "execution_count": 3,
   "metadata": {},
   "outputs": [],
   "source": [
    "def mas_retwitteados():\n",
    "    with open(\"farmers-protest-tweets-2021-03-5.json\", \"r\", encoding='utf-8') as archivo:\n",
    "        #ESTO NO FUNCIONA\n",
    "        pass\n",
    "    print(\"Estos son los 10 tweets más retwitteados.\")"


   ]
  },
  {
   "cell_type": "code",
   "execution_count": null,
   "metadata": {},
   "outputs": [],
   "source": []
  }
 ],
 "metadata": {
  "kernelspec": {
   "display_name": "Python 3",
   "language": "python",
   "name": "python3"
  },
  "language_info": {
   "codemirror_mode": {
    "name": "ipython",
    "version": 3
   },
   "file_extension": ".py",
   "mimetype": "text/x-python",
   "name": "python",
   "nbconvert_exporter": "python",
   "pygments_lexer": "ipython3",
   "version": "3.7.4"
  }
 },
 "nbformat": 4,
 "nbformat_minor": 2
}
